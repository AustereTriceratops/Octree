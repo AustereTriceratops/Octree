{
 "cells": [
  {
   "cell_type": "code",
   "execution_count": null,
   "metadata": {},
   "outputs": [],
   "source": [
    "'''\n",
    "TODO:\n",
    "+ implement path class\n",
    "+ root node class\n",
    "+ remove spaghetti\n",
    "'''"
   ]
  },
  {
   "cell_type": "code",
   "execution_count": 1,
   "metadata": {},
   "outputs": [],
   "source": [
    "from PDBReader import atom_positions_from_pdb\n",
    "from test import *\n",
    "from octree import *"
   ]
  },
  {
   "cell_type": "code",
   "execution_count": 54,
   "metadata": {},
   "outputs": [],
   "source": [
    "atom_positions = atom_positions_from_pdb(\"2erk.pdb\")"
   ]
  },
  {
   "cell_type": "code",
   "execution_count": 55,
   "metadata": {},
   "outputs": [],
   "source": [
    "tree = Octree(atom_positions, 15).tree"
   ]
  },
  {
   "cell_type": "code",
   "execution_count": null,
   "metadata": {},
   "outputs": [],
   "source": [
    "# ======= density estimation =======\n",
    "# TODO: move functions into classes, cleanup, etc."
   ]
  },
  {
   "cell_type": "code",
   "execution_count": 7,
   "metadata": {},
   "outputs": [],
   "source": [
    "import numpy as np\n",
    "import matplotlib.pyplot as plt"
   ]
  },
  {
   "cell_type": "code",
   "execution_count": 8,
   "metadata": {},
   "outputs": [],
   "source": [
    "def lower_upper_bounds(cell, dim):  # Node: cell, int: dim\n",
    "    c = cell.center[dim]\n",
    "    d = cell.dimensions[dim]/2.0\n",
    "    \n",
    "    return c - d, c + d"
   ]
  },
  {
   "cell_type": "code",
   "execution_count": 9,
   "metadata": {},
   "outputs": [],
   "source": [
    "def get_slice_of_leaves(leaf_collection, level, dim):\n",
    "    sliced_tree = []\n",
    "\n",
    "    for leaf in leaf_collection:\n",
    "        low, high = lower_upper_bounds(leaf, dim)\n",
    "\n",
    "        if level >= low and level <= high:\n",
    "            sliced_tree.append(leaf)\n",
    "            \n",
    "    return sliced_tree"
   ]
  },
  {
   "cell_type": "code",
   "execution_count": 45,
   "metadata": {},
   "outputs": [],
   "source": [
    "def density(pos, points):\n",
    "    result = 0\n",
    "    \n",
    "    pos = np.array(pos)\n",
    "    points = np.array(points)\n",
    "    \n",
    "    for i in range(len(points)):\n",
    "        result += np.exp(-np.sum(((pos - points[i])**2)/6))\n",
    "        \n",
    "    return result"
   ]
  },
  {
   "cell_type": "code",
   "execution_count": 47,
   "metadata": {},
   "outputs": [],
   "source": [
    "tree = Octree(generate_test_points(2, 5), 5, scale=2.01).tree"
   ]
  },
  {
   "cell_type": "code",
   "execution_count": 56,
   "metadata": {},
   "outputs": [],
   "source": [
    "x_min, x_max = lower_upper_bounds(tree, 0)\n",
    "y_min, y_max = lower_upper_bounds(tree, 1)\n",
    "\n",
    "x = np.linspace(x_min + 0.001, x_max - 0.001, 50)\n",
    "y = np.linspace(y_min + 0.001, y_max - 0.001, 50)"
   ]
  },
  {
   "cell_type": "code",
   "execution_count": 57,
   "metadata": {},
   "outputs": [],
   "source": [
    "z_slice_ratio = 0.6  # between 0 and 1\n",
    "low, high = lower_upper_bounds(tree, 2)\n",
    "\n",
    "\n",
    "z_slice = z_slice_ratio * high + (1.0 - z_slice_ratio) * low\n",
    "\n",
    "xy_sliced_tree = get_slice_of_leaves(tree.leaves, z_slice, 2)"
   ]
  },
  {
   "cell_type": "code",
   "execution_count": 58,
   "metadata": {},
   "outputs": [
    {
     "data": {
      "text/plain": [
       "<matplotlib.image.AxesImage at 0x1b88fb16ac8>"
      ]
     },
     "execution_count": 58,
     "metadata": {},
     "output_type": "execute_result"
    },
    {
     "data": {
      "image/png": "[encoded data removed]",
      "text/plain": [
       "<Figure size 432x288 with 1 Axes>"
      ]
     },
     "metadata": {
      "needs_background": "light"
     },
     "output_type": "display_data"
    }
   ],
   "source": [
    "z = np.zeros((50,50))\n",
    "\n",
    "for i in range(50):\n",
    "    x_slice = x[i]\n",
    "    \n",
    "    for j in range(50):\n",
    "        y_slice = y[j]\n",
    "        \n",
    "        x_sliced_tree = get_slice_of_leaves(xy_sliced_tree, y_slice, 1)\n",
    "        \n",
    "        sliced_tree = get_slice_of_leaves(x_sliced_tree, x_slice, 0)\n",
    "        cell = sliced_tree[0]\n",
    "        \n",
    "        if cell.category == \"boundary\":\n",
    "            z[i,j] = 0.5\n",
    "        elif cell.category == \"interior\":\n",
    "            z[i,j] = 1.0\n",
    "            \n",
    "plt.imshow(z, cmap=\"Purples\")"
   ]
  },
  {
   "cell_type": "code",
   "execution_count": 59,
   "metadata": {},
   "outputs": [],
   "source": [
    "for i in range(len(xy_sliced_tree)):  # near_points probably doesn't need to be cached\n",
    "    leaf = xy_sliced_tree[i]\n",
    "    \n",
    "    leaf.near_points = leaf.points.copy()\n",
    "    \n",
    "    for ind in leaf.neighbor_indices:\n",
    "        c = tree.leaves[ind].points.copy()\n",
    "        leaf.near_points.extend(c)"
   ]
  },
  {
   "cell_type": "code",
   "execution_count": 62,
   "metadata": {},
   "outputs": [
    {
     "data": {
      "text/plain": [
       "<matplotlib.image.AxesImage at 0x1b8fbe60288>"
      ]
     },
     "execution_count": 62,
     "metadata": {},
     "output_type": "execute_result"
    },
    {
     "data": {
      "image/png": "[encoded data removed]",
      "text/plain": [
       "<Figure size 432x288 with 1 Axes>"
      ]
     },
     "metadata": {
      "needs_background": "light"
     },
     "output_type": "display_data"
    }
   ],
   "source": [
    "z = np.zeros((50,50))\n",
    "\n",
    "for i in range(50):\n",
    "    x_slice = x[i]\n",
    "    \n",
    "    for j in range(50):\n",
    "        y_slice = y[j]\n",
    "        \n",
    "        x_sliced_tree = get_slice_of_leaves(xy_sliced_tree, y_slice, 1)\n",
    "        \n",
    "        sliced_tree = get_slice_of_leaves(x_sliced_tree, x_slice, 0)\n",
    "        cell = sliced_tree[0]\n",
    "        \n",
    "        '''if cell.category == \"boundary\" or cell.category == \"interior\":\n",
    "            z[i,j] = density([x_slice, y_slice, z_slice], cell.near_points)'''\n",
    "        \n",
    "        z[i,j] = density([x[i], y[j], z_slice], cell.near_points)\n",
    "            \n",
    "plt.imshow(z, cmap=\"Purples\")"
   ]
  },
  {
   "cell_type": "code",
   "execution_count": null,
   "metadata": {},
   "outputs": [],
   "source": []
  }
 ],
 "metadata": {
  "kernelspec": {
   "display_name": "Python 3",
   "language": "python",
   "name": "python3"
  },
  "language_info": {
   "codemirror_mode": {
    "name": "ipython",
    "version": 3
   },
   "file_extension": ".py",
   "mimetype": "text/x-python",
   "name": "python",
   "nbconvert_exporter": "python",
   "pygments_lexer": "ipython3",
   "version": "3.7.6"
  }
 },
 "nbformat": 4,
 "nbformat_minor": 4
}
